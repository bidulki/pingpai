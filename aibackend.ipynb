{
 "cells": [
  {
   "cell_type": "code",
   "execution_count": null,
   "metadata": {},
   "outputs": [],
   "source": [
    "!git clone https://github.com/bidulki/pingpai.git\n",
    "%cd pingpai\n",
    "!pip install -r requirements.txt\n",
    "!pip install -U langchain-community"
   ]
  },
  {
   "cell_type": "code",
   "execution_count": 4,
   "metadata": {},
   "outputs": [],
   "source": [
    "from fastapi import FastAPI\n",
    "from fastapi.middleware.cors import CORSMiddleware\n",
    "import uvicorn\n",
    "import nest_asyncio\n",
    "from pyngrok import ngrok, conf\n",
    "from pydantic import BaseModel\n",
    "from utils import FAQDB, RealTimeDB\n",
    "\n",
    "faq_path = \"./faq.tsv\"\n",
    "index_path = \"./faq.index\"\n",
    "model_name = \"jhgan/ko-sbert-nli\"\n",
    "document_path = \"./document.tsv\"\n",
    "document_index_path = \"./document.index\"\n",
    "history_path = \"./qa_history.tsv\""
   ]
  },
  {
   "cell_type": "code",
   "execution_count": 8,
   "metadata": {},
   "outputs": [],
   "source": [
    "faqdb = FAQDB(\n",
    "    faq_path=faq_path, \n",
    "    index_path=index_path, \n",
    "    model_name=model_name\n",
    ")\n",
    "\n",
    "real_time_db = RealTimeDB(\n",
    "    document_path=document_path, \n",
    "    index_path=document_index_path, \n",
    "    model_name=model_name,\n",
    "    history_path = history_path\n",
    ")\n",
    "\n",
    "class FAQ(BaseModel):\n",
    "    question: str\n",
    "    answer: str\n",
    "\n",
    "class RemoveIdx(BaseModel):\n",
    "    idx: int\n",
    "\n",
    "class FaqQuery(BaseModel):\n",
    "    query: str\n",
    "    topk: int\n",
    "\n",
    "class RealQuery(BaseModel):\n",
    "    query: str\n",
    "\n",
    "nest_asyncio.apply()\n",
    "app = FastAPI()\n",
    "\n",
    "app.add_middleware(\n",
    "    CORSMiddleware,\n",
    "    allow_origins=[\"*\"],\n",
    "    allow_credentials=True,\n",
    "    allow_methods=[\"*\"],\n",
    "    allow_headers=[\"*\"],\n",
    ")\n",
    "\n",
    "@app.post(\"/api/get-faq\")\n",
    "async def get_faq():\n",
    "    res = faqdb.get_faq()\n",
    "    return res\n",
    "\n",
    "@app.post(\"/api/add-faq\")\n",
    "async def add_faq(faq: FAQ):\n",
    "    res = faqdb.add_faq(faq.question, faq.answer)\n",
    "    return res\n",
    "\n",
    "@app.post(\"/api/delete-faq\")\n",
    "async def delete_faq(remove_idx : RemoveIdx):\n",
    "    res = faqdb.delete_faq(remove_idx.idx)\n",
    "    return res\n",
    "\n",
    "@app.post(\"/api/search-faq\")\n",
    "async def search_faq(faq_query : FaqQuery):\n",
    "    res = faqdb.search_faq(faq_query.query, faq_query.topk)\n",
    "    return res\n",
    "\n",
    "@app.post(\"/api/search-realtime\")\n",
    "async def search_realtime(real_query : RealQuery):\n",
    "    res = real_time_db.search_realtime(real_query.query)\n",
    "    return res"
   ]
  },
  {
   "cell_type": "code",
   "execution_count": null,
   "metadata": {},
   "outputs": [],
   "source": [
    "!ngrok authtoken *********"
   ]
  },
  {
   "cell_type": "code",
   "execution_count": null,
   "metadata": {},
   "outputs": [],
   "source": [
    "public_url = ngrok.connect(8000)\n",
    "print(f\"Public URL: {public_url}\")\n",
    "uvicorn.run(app, host=\"0.0.0.0\", port=8000)"
   ]
  }
 ],
 "metadata": {
  "kernelspec": {
   "display_name": "expel2",
   "language": "python",
   "name": "python3"
  },
  "language_info": {
   "codemirror_mode": {
    "name": "ipython",
    "version": 3
   },
   "file_extension": ".py",
   "mimetype": "text/x-python",
   "name": "python",
   "nbconvert_exporter": "python",
   "pygments_lexer": "ipython3",
   "version": "3.9.17"
  }
 },
 "nbformat": 4,
 "nbformat_minor": 2
}
